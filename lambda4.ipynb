{
 "cells": [
  {
   "cell_type": "code",
   "execution_count": 1,
   "id": "54885ea6",
   "metadata": {},
   "outputs": [
    {
     "name": "stdout",
     "output_type": "stream",
     "text": [
      "True\n",
      "False\n"
     ]
    }
   ],
   "source": [
    "starts_with=lambda x: True if x.startswith('P') else False\n",
    "print(starts_with(\"Python\"))\n",
    "starts_with=lambda x: True if x.startswith('P') else False\n",
    "print(starts_with(\"Java\"))"
   ]
  },
  {
   "cell_type": "code",
   "execution_count": null,
   "id": "e610ff99",
   "metadata": {},
   "outputs": [],
   "source": []
  }
 ],
 "metadata": {
  "kernelspec": {
   "display_name": "Python 3 (ipykernel)",
   "language": "python",
   "name": "python3"
  },
  "language_info": {
   "codemirror_mode": {
    "name": "ipython",
    "version": 3
   },
   "file_extension": ".py",
   "mimetype": "text/x-python",
   "name": "python",
   "nbconvert_exporter": "python",
   "pygments_lexer": "ipython3",
   "version": "3.9.13"
  }
 },
 "nbformat": 4,
 "nbformat_minor": 5
}
