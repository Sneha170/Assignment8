{
 "cells": [
  {
   "cell_type": "code",
   "execution_count": 2,
   "id": "c664d064",
   "metadata": {},
   "outputs": [
    {
     "name": "stdout",
     "output_type": "stream",
     "text": [
      "Original list of tuples :\n",
      "[('English', 88), ('Science', 90), ('Maths', 97), ('Social science', 82)]\n",
      "\n",
      " Sorting the list of tuples:\n",
      "[('Social science', 82), ('English', 88), ('Science', 90), ('Maths', 97)]\n"
     ]
    }
   ],
   "source": [
    "sub=[('English',88),('Science',90),('Maths',97),('Social science',82)]\n",
    "print(\"Original list of tuples :\")\n",
    "print(sub)\n",
    "sub.sort(key=lambda x:x[1])\n",
    "print(\"\\n Sorting the list of tuples:\")\n",
    "print(sub)"
   ]
  },
  {
   "cell_type": "code",
   "execution_count": null,
   "id": "f2a4dce4",
   "metadata": {},
   "outputs": [],
   "source": []
  }
 ],
 "metadata": {
  "kernelspec": {
   "display_name": "Python 3 (ipykernel)",
   "language": "python",
   "name": "python3"
  },
  "language_info": {
   "codemirror_mode": {
    "name": "ipython",
    "version": 3
   },
   "file_extension": ".py",
   "mimetype": "text/x-python",
   "name": "python",
   "nbconvert_exporter": "python",
   "pygments_lexer": "ipython3",
   "version": "3.9.13"
  }
 },
 "nbformat": 4,
 "nbformat_minor": 5
}
