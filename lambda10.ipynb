{
 "cells": [
  {
   "cell_type": "code",
   "execution_count": 1,
   "id": "2f2ab315",
   "metadata": {},
   "outputs": [
    {
     "name": "stdout",
     "output_type": "stream",
     "text": [
      "Original list :\n",
      "[19, 'red', 12, 'green', 'blue', 10, 'white', 'green', 1]\n",
      "sort the said mixed list of integers and strings\n",
      "[1, 10, 12, 19, 'blue', 'green', 'green', 'red', 'white']\n"
     ]
    }
   ],
   "source": [
    "def sort_mixed_list(mixed_list):\n",
    "    mixed_list.sort(key=lambda e:(isinstance(e,str),e))\n",
    "    return mixed_list\n",
    "mixed_list=[19,'red',12,'green','blue',10,'white','green',1]\n",
    "print(\"Original list :\")\n",
    "print(mixed_list)\n",
    "print(\"sort the said mixed list of integers and strings\")\n",
    "print(sort_mixed_list(mixed_list))"
   ]
  },
  {
   "cell_type": "code",
   "execution_count": null,
   "id": "77905e8a",
   "metadata": {},
   "outputs": [],
   "source": []
  }
 ],
 "metadata": {
  "kernelspec": {
   "display_name": "Python 3 (ipykernel)",
   "language": "python",
   "name": "python3"
  },
  "language_info": {
   "codemirror_mode": {
    "name": "ipython",
    "version": 3
   },
   "file_extension": ".py",
   "mimetype": "text/x-python",
   "name": "python",
   "nbconvert_exporter": "python",
   "pygments_lexer": "ipython3",
   "version": "3.9.13"
  }
 },
 "nbformat": 4,
 "nbformat_minor": 5
}
