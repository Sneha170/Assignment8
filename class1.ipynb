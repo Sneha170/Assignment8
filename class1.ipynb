{
 "cells": [
  {
   "cell_type": "code",
   "execution_count": 2,
   "id": "e39a1a8e",
   "metadata": {},
   "outputs": [
    {
     "name": "stdout",
     "output_type": "stream",
     "text": [
      "I\n",
      "MM\n"
     ]
    }
   ],
   "source": [
    "class solution:\n",
    "    def int_to_roman(self,num):\n",
    "        val=[1000,900,500,400,100,90,50,40,10,9,5,4,1]\n",
    "        sym=[\"M\",\"CM\",\"D\",\"CD\",\"C\",\"XC\",\"L\",\"XL\",\"X\",\"IX\",\"V\",\"IV\",\"I\"]\n",
    "        roman_num=\"\"\n",
    "        i=0\n",
    "        while num>0:\n",
    "            for _ in range(num//val[i]):\n",
    "                roman_num+=sym[i]\n",
    "                num-=val[i]\n",
    "            i+=1\n",
    "        return roman_num\n",
    "    \n",
    "print(solution().int_to_roman(1))\n",
    "print(solution().int_to_roman(2000))"
   ]
  },
  {
   "cell_type": "code",
   "execution_count": null,
   "id": "59dbfd7c",
   "metadata": {},
   "outputs": [],
   "source": []
  }
 ],
 "metadata": {
  "kernelspec": {
   "display_name": "Python 3 (ipykernel)",
   "language": "python",
   "name": "python3"
  },
  "language_info": {
   "codemirror_mode": {
    "name": "ipython",
    "version": 3
   },
   "file_extension": ".py",
   "mimetype": "text/x-python",
   "name": "python",
   "nbconvert_exporter": "python",
   "pygments_lexer": "ipython3",
   "version": "3.9.13"
  }
 },
 "nbformat": 4,
 "nbformat_minor": 5
}
