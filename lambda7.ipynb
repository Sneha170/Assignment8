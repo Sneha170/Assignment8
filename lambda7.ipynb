{
 "cells": [
  {
   "cell_type": "code",
   "execution_count": 1,
   "id": "2792cc43",
   "metadata": {},
   "outputs": [
    {
     "name": "stdout",
     "output_type": "stream",
     "text": [
      "Orginal Matrix:\n",
      "[[1, 2, 3], [2, 4, 5], [1, 1, 1]]\n",
      "sort and said matrix in ascending order according to the sum of its rows:\n",
      "[[1, 1, 1], [1, 2, 3], [2, 4, 5]]\n",
      "Orginal Matrix:\n",
      "[[1, 2, 3], [-2, 4, -5], [1, -1, 1]]\n",
      "sort and said matrix in ascending order according to the sum of its rows:\n",
      "[[-2, 4, -5], [1, -1, 1], [1, 2, 3]]\n"
     ]
    }
   ],
   "source": [
    "def sort_matrix(M):\n",
    "    res=sorted(M,key=lambda row: sum(row))\n",
    "    return res\n",
    "matrix1=[[1,2,3],[2,4,5],[1,1,1]]\n",
    "matrix2=[[1,2,3],[-2,4,-5],[1,-1,1]]\n",
    "print(\"Orginal Matrix:\")\n",
    "print(matrix1)\n",
    "print(\"sort and said matrix in ascending order according to the sum of its rows:\")\n",
    "print(sort_matrix(matrix1))\n",
    "print(\"Orginal Matrix:\")\n",
    "print(matrix2)\n",
    "print(\"sort and said matrix in ascending order according to the sum of its rows:\")\n",
    "print(sort_matrix(matrix2))"
   ]
  },
  {
   "cell_type": "code",
   "execution_count": null,
   "id": "f9475d1f",
   "metadata": {},
   "outputs": [],
   "source": []
  }
 ],
 "metadata": {
  "kernelspec": {
   "display_name": "Python 3 (ipykernel)",
   "language": "python",
   "name": "python3"
  },
  "language_info": {
   "codemirror_mode": {
    "name": "ipython",
    "version": 3
   },
   "file_extension": ".py",
   "mimetype": "text/x-python",
   "name": "python",
   "nbconvert_exporter": "python",
   "pygments_lexer": "ipython3",
   "version": "3.9.13"
  }
 },
 "nbformat": 4,
 "nbformat_minor": 5
}
