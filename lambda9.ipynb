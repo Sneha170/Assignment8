{
 "cells": [
  {
   "cell_type": "code",
   "execution_count": 2,
   "id": "cffadbf4",
   "metadata": {},
   "outputs": [
    {
     "name": "stdout",
     "output_type": "stream",
     "text": [
      "original list :\n",
      "['red', 'black', 'white', 'green', 'orange']\n",
      "Substring to search\n",
      "ack\n",
      "Elements of the said list that contain specific substring :\n",
      "['black']\n",
      "Substring to search\n",
      "abc\n",
      "Elements of the said list that contain specific substring :\n",
      "[]\n"
     ]
    }
   ],
   "source": [
    "def find_substring(str,sub_str):\n",
    "    res=list(filter(lambda x:sub_str in x,str))\n",
    "    return res\n",
    "colors=[\"red\",\"black\",\"white\",\"green\",\"orange\"]\n",
    "print(\"original list :\")\n",
    "print(colors)\n",
    "sub_str=\"ack\"\n",
    "print(\"Substring to search\")\n",
    "print(sub_str)\n",
    "print(\"Elements of the said list that contain specific substring :\")\n",
    "print(find_substring(colors,sub_str))\n",
    "sub_str=\"abc\"\n",
    "print(\"Substring to search\")\n",
    "print(sub_str)\n",
    "print(\"Elements of the said list that contain specific substring :\")\n",
    "print(find_substring(colors,sub_str))"
   ]
  },
  {
   "cell_type": "code",
   "execution_count": null,
   "id": "f22b4295",
   "metadata": {},
   "outputs": [],
   "source": []
  }
 ],
 "metadata": {
  "kernelspec": {
   "display_name": "Python 3 (ipykernel)",
   "language": "python",
   "name": "python3"
  },
  "language_info": {
   "codemirror_mode": {
    "name": "ipython",
    "version": 3
   },
   "file_extension": ".py",
   "mimetype": "text/x-python",
   "name": "python",
   "nbconvert_exporter": "python",
   "pygments_lexer": "ipython3",
   "version": "3.9.13"
  }
 },
 "nbformat": 4,
 "nbformat_minor": 5
}
