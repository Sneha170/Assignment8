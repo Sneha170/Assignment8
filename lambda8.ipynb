{
 "cells": [
  {
   "cell_type": "code",
   "execution_count": 3,
   "id": "7ce1307f",
   "metadata": {},
   "outputs": [
    {
     "name": "stdout",
     "output_type": "stream",
     "text": [
      "Enter the string :PaceWisd0m\n",
      "['valid string']\n"
     ]
    }
   ],
   "source": [
    "def check_string(str):\n",
    "    msg=[\n",
    "    lambda str: any(x.isupper() for x in str) or 'String must have 1 Upper case Character,',\n",
    "    lambda str: any(x.islower() for x in str) or 'String must have 1 lower case Character,',\n",
    "    lambda str: any(x.isdigit() for x in str) or 'String must have 1 Number',\n",
    "    lambda str: len(str)>=7 or \"String length must be atleast 8 \",]\n",
    "    res=[x for x in [i(str) for i in msg] if x!=True]\n",
    "    if not res:\n",
    "        res.append(\"valid string\")\n",
    "        return res\n",
    "s=input(\"Enter the string :\")\n",
    "print(check_string(s))"
   ]
  },
  {
   "cell_type": "code",
   "execution_count": null,
   "id": "88954eda",
   "metadata": {},
   "outputs": [],
   "source": []
  }
 ],
 "metadata": {
  "kernelspec": {
   "display_name": "Python 3 (ipykernel)",
   "language": "python",
   "name": "python3"
  },
  "language_info": {
   "codemirror_mode": {
    "name": "ipython",
    "version": 3
   },
   "file_extension": ".py",
   "mimetype": "text/x-python",
   "name": "python",
   "nbconvert_exporter": "python",
   "pygments_lexer": "ipython3",
   "version": "3.9.13"
  }
 },
 "nbformat": 4,
 "nbformat_minor": 5
}
