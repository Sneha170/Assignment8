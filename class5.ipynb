{
 "cells": [
  {
   "cell_type": "code",
   "execution_count": 2,
   "id": "2506a3e1",
   "metadata": {},
   "outputs": [
    {
     "name": "stdout",
     "output_type": "stream",
     "text": [
      "Output :\n",
      "[[-10, 2, 8], [-7, -3, 10]]\n"
     ]
    }
   ],
   "source": [
    "class solution:\n",
    "    def threesum(self,nums):\n",
    "        nums,res,i=sorted(nums),[],0\n",
    "        while i<len(nums)-2:\n",
    "            j,k=i+1,len(nums)-1\n",
    "            while j<k:\n",
    "                if nums[i]+nums[j]+nums[k]<0:\n",
    "                    j+=1\n",
    "                elif nums[i]+nums[j]+nums[k]>0:\n",
    "                    k-=1\n",
    "                else:\n",
    "                    res.append([nums[i],nums[j],nums[k]])\n",
    "                    j,k=j+1,k-1\n",
    "                    while j<k and nums[j]==nums[j-1]:\n",
    "                        j+=1\n",
    "                    while j<k and nums[k]==nums[k+1]:\n",
    "                        k-=1\n",
    "            i+=1\n",
    "            while i<len(nums)-1 and nums[i]==nums[i-1]:\n",
    "                i+=1\n",
    "        return res\n",
    "print(\"Output :\")\n",
    "print(solution().threesum([-25,-10,-7,-3,2,4,8,10]))\n",
    "            "
   ]
  },
  {
   "cell_type": "code",
   "execution_count": null,
   "id": "22912de9",
   "metadata": {},
   "outputs": [],
   "source": []
  }
 ],
 "metadata": {
  "kernelspec": {
   "display_name": "Python 3 (ipykernel)",
   "language": "python",
   "name": "python3"
  },
  "language_info": {
   "codemirror_mode": {
    "name": "ipython",
    "version": 3
   },
   "file_extension": ".py",
   "mimetype": "text/x-python",
   "name": "python",
   "nbconvert_exporter": "python",
   "pygments_lexer": "ipython3",
   "version": "3.9.13"
  }
 },
 "nbformat": 4,
 "nbformat_minor": 5
}
