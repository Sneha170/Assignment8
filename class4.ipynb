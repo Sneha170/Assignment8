{
 "cells": [
  {
   "cell_type": "code",
   "execution_count": 6,
   "id": "b2b2bb6a",
   "metadata": {},
   "outputs": [
    {
     "name": "stdout",
     "output_type": "stream",
     "text": [
      "Enter the target :50\n",
      "index1= 2, index2= 3\n"
     ]
    }
   ],
   "source": [
    "\n",
    "class solution:\n",
    "    def twosum(self,nums,target):\n",
    "        d={}\n",
    "        for i,num in enumerate(nums):\n",
    "            if target-num in d:\n",
    "                return (d[target-num],i)\n",
    "            d[num]=i\n",
    "print(\"index1= %d, index2= %d\"%solution().twosum([90,20,10,40,50,60,70],50))"
   ]
  },
  {
   "cell_type": "code",
   "execution_count": null,
   "id": "c436c7d3",
   "metadata": {},
   "outputs": [],
   "source": []
  }
 ],
 "metadata": {
  "kernelspec": {
   "display_name": "Python 3 (ipykernel)",
   "language": "python",
   "name": "python3"
  },
  "language_info": {
   "codemirror_mode": {
    "name": "ipython",
    "version": 3
   },
   "file_extension": ".py",
   "mimetype": "text/x-python",
   "name": "python",
   "nbconvert_exporter": "python",
   "pygments_lexer": "ipython3",
   "version": "3.9.13"
  }
 },
 "nbformat": 4,
 "nbformat_minor": 5
}
