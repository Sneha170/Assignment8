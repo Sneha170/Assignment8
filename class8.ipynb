{
 "cells": [
  {
   "cell_type": "code",
   "execution_count": 4,
   "id": "9e6b954c",
   "metadata": {},
   "outputs": [
    {
     "name": "stdout",
     "output_type": "stream",
     "text": [
      "hello\n",
      "output :\n",
      "HELLO\n"
     ]
    }
   ],
   "source": [
    "class solution:\n",
    "    def __init__(self):\n",
    "        self.str1=\"\"\n",
    "    def get_string(self):\n",
    "        self.str1=input()\n",
    "    def print_string(self):\n",
    "        print(self.str1.upper())\n",
    "str1=solution()\n",
    "str1.get_string()\n",
    "print(\"output :\")\n",
    "str1.print_string()"
   ]
  },
  {
   "cell_type": "code",
   "execution_count": null,
   "id": "7219daed",
   "metadata": {},
   "outputs": [],
   "source": []
  }
 ],
 "metadata": {
  "kernelspec": {
   "display_name": "Python 3 (ipykernel)",
   "language": "python",
   "name": "python3"
  },
  "language_info": {
   "codemirror_mode": {
    "name": "ipython",
    "version": 3
   },
   "file_extension": ".py",
   "mimetype": "text/x-python",
   "name": "python",
   "nbconvert_exporter": "python",
   "pygments_lexer": "ipython3",
   "version": "3.9.13"
  }
 },
 "nbformat": 4,
 "nbformat_minor": 5
}
