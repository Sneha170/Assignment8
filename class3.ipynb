{
 "cells": [
  {
   "cell_type": "code",
   "execution_count": 3,
   "id": "1c2c7190",
   "metadata": {},
   "outputs": [
    {
     "name": "stdout",
     "output_type": "stream",
     "text": [
      "[[], [6], [5], [5, 6], [4], [4, 6], [4, 5], [4, 5, 6]]\n"
     ]
    }
   ],
   "source": [
    "class solution:\n",
    "    def subset(self,set1):\n",
    "        return self.subsetsRecur([],sorted(set1))\n",
    "    def subsetsRecur(self,current,set1):\n",
    "        if set1:\n",
    "            return self.subsetsRecur(current,set1[1:])+self.subsetsRecur(current+[set1[0]],set1[1:])\n",
    "        return [current]\n",
    "print(solution().subset([4,5,6]))"
   ]
  },
  {
   "cell_type": "code",
   "execution_count": null,
   "id": "83ff610f",
   "metadata": {},
   "outputs": [],
   "source": []
  },
  {
   "cell_type": "code",
   "execution_count": null,
   "id": "9cd7c412",
   "metadata": {},
   "outputs": [],
   "source": []
  }
 ],
 "metadata": {
  "kernelspec": {
   "display_name": "Python 3 (ipykernel)",
   "language": "python",
   "name": "python3"
  },
  "language_info": {
   "codemirror_mode": {
    "name": "ipython",
    "version": 3
   },
   "file_extension": ".py",
   "mimetype": "text/x-python",
   "name": "python",
   "nbconvert_exporter": "python",
   "pygments_lexer": "ipython3",
   "version": "3.9.13"
  }
 },
 "nbformat": 4,
 "nbformat_minor": 5
}
