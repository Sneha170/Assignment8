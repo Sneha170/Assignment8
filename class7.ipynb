{
 "cells": [
  {
   "cell_type": "code",
   "execution_count": 4,
   "id": "fd0a3ba6",
   "metadata": {},
   "outputs": [
    {
     "name": "stdout",
     "output_type": "stream",
     "text": [
      "ENter string :hello .py\n",
      "output \n",
      ".py hello\n"
     ]
    }
   ],
   "source": [
    "class solution:\n",
    "    def reverse(self,str):\n",
    "        return ' '.join(reversed(str.split()))\n",
    "str=input(\"ENter string :\")\n",
    "print(\"output \")\n",
    "print(solution().reverse(str))"
   ]
  },
  {
   "cell_type": "code",
   "execution_count": null,
   "id": "9b60cc66",
   "metadata": {},
   "outputs": [],
   "source": []
  }
 ],
 "metadata": {
  "kernelspec": {
   "display_name": "Python 3 (ipykernel)",
   "language": "python",
   "name": "python3"
  },
  "language_info": {
   "codemirror_mode": {
    "name": "ipython",
    "version": 3
   },
   "file_extension": ".py",
   "mimetype": "text/x-python",
   "name": "python",
   "nbconvert_exporter": "python",
   "pygments_lexer": "ipython3",
   "version": "3.9.13"
  }
 },
 "nbformat": 4,
 "nbformat_minor": 5
}
