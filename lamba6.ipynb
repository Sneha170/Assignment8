{
 "cells": [
  {
   "cell_type": "code",
   "execution_count": 2,
   "id": "962e5e8d",
   "metadata": {},
   "outputs": [
    {
     "name": "stdout",
     "output_type": "stream",
     "text": [
      "Original List :\n",
      "[19, 65, 57, 39, 152, 639, 121, 44, 90, 190]\n",
      "Number of above list divisible by nineteen or thirteen\n",
      "[19, 65, 57, 39, 152, 190]\n"
     ]
    }
   ],
   "source": [
    "nums=[19,65,57,39,152,639,121,44,90,190]\n",
    "print(\"Original List :\")\n",
    "print(nums)\n",
    "res=list(filter(lambda x:(x%19==0 or x%13==0),nums))\n",
    "print(\"Number of above list divisible by nineteen or thirteen\")\n",
    "print(res)"
   ]
  },
  {
   "cell_type": "code",
   "execution_count": null,
   "id": "fc499d4b",
   "metadata": {},
   "outputs": [],
   "source": []
  }
 ],
 "metadata": {
  "kernelspec": {
   "display_name": "Python 3 (ipykernel)",
   "language": "python",
   "name": "python3"
  },
  "language_info": {
   "codemirror_mode": {
    "name": "ipython",
    "version": 3
   },
   "file_extension": ".py",
   "mimetype": "text/x-python",
   "name": "python",
   "nbconvert_exporter": "python",
   "pygments_lexer": "ipython3",
   "version": "3.9.13"
  }
 },
 "nbformat": 4,
 "nbformat_minor": 5
}
