{
 "cells": [
  {
   "cell_type": "code",
   "execution_count": 1,
   "id": "83ccfde9",
   "metadata": {},
   "outputs": [
    {
     "name": "stdout",
     "output_type": "stream",
     "text": [
      "1.0\n"
     ]
    }
   ],
   "source": [
    "class solution(object):\n",
    "    def pow(self,x,n):\n",
    "        power=abs(n)\n",
    "        res=1.0\n",
    "        while power:\n",
    "            if power&1:\n",
    "                res*=x\n",
    "            x*=x\n",
    "        if n<0:\n",
    "            return 1/res\n",
    "        return res\n",
    "ob1=solution()\n",
    "print(ob1.pow(100, 0))\n"
   ]
  },
  {
   "cell_type": "code",
   "execution_count": null,
   "id": "49327a09",
   "metadata": {},
   "outputs": [],
   "source": []
  },
  {
   "cell_type": "code",
   "execution_count": null,
   "id": "e1654fd9",
   "metadata": {},
   "outputs": [],
   "source": []
  }
 ],
 "metadata": {
  "kernelspec": {
   "display_name": "Python 3 (ipykernel)",
   "language": "python",
   "name": "python3"
  },
  "language_info": {
   "codemirror_mode": {
    "name": "ipython",
    "version": 3
   },
   "file_extension": ".py",
   "mimetype": "text/x-python",
   "name": "python",
   "nbconvert_exporter": "python",
   "pygments_lexer": "ipython3",
   "version": "3.9.13"
  }
 },
 "nbformat": 4,
 "nbformat_minor": 5
}
